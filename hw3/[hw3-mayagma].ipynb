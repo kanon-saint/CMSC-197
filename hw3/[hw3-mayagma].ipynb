{
 "cells": [
  {
   "cell_type": "markdown",
   "id": "966e634a-2a72-4531-9e70-c1536f37b20a",
   "metadata": {},
   "source": [
    "### Importing necessary libraries"
   ]
  },
  {
   "cell_type": "code",
   "execution_count": 2,
   "id": "f31e7d5a-026c-47f1-82f3-20b2fa18433a",
   "metadata": {},
   "outputs": [],
   "source": [
    "import pandas as pd\n",
    "import numpy as np\n",
    "import matplotlib.pyplot as plt\n",
    "from sklearn.preprocessing import StandardScaler\n",
    "from sklearn.model_selection import train_test_split\n",
    "from sklearn.metrics import mean_squared_error, r2_score"
   ]
  },
  {
   "cell_type": "markdown",
   "id": "1a6580a3-a41a-41eb-bdd7-af2c3d5ef5fe",
   "metadata": {},
   "source": [
    "### Load `Advertising.csv` dataset pandas"
   ]
  },
  {
   "cell_type": "code",
   "execution_count": 4,
   "id": "d7f047dc-7dfd-4854-8be9-fcf1706e03d5",
   "metadata": {},
   "outputs": [
    {
     "data": {
      "text/html": [
       "<div>\n",
       "<style scoped>\n",
       "    .dataframe tbody tr th:only-of-type {\n",
       "        vertical-align: middle;\n",
       "    }\n",
       "\n",
       "    .dataframe tbody tr th {\n",
       "        vertical-align: top;\n",
       "    }\n",
       "\n",
       "    .dataframe thead th {\n",
       "        text-align: right;\n",
       "    }\n",
       "</style>\n",
       "<table border=\"1\" class=\"dataframe\">\n",
       "  <thead>\n",
       "    <tr style=\"text-align: right;\">\n",
       "      <th></th>\n",
       "      <th>TV</th>\n",
       "      <th>Radio</th>\n",
       "      <th>Newspaper</th>\n",
       "      <th>Sales</th>\n",
       "    </tr>\n",
       "  </thead>\n",
       "  <tbody>\n",
       "    <tr>\n",
       "      <th>1</th>\n",
       "      <td>230.1</td>\n",
       "      <td>37.8</td>\n",
       "      <td>69.2</td>\n",
       "      <td>22.1</td>\n",
       "    </tr>\n",
       "    <tr>\n",
       "      <th>2</th>\n",
       "      <td>44.5</td>\n",
       "      <td>39.3</td>\n",
       "      <td>45.1</td>\n",
       "      <td>10.4</td>\n",
       "    </tr>\n",
       "    <tr>\n",
       "      <th>3</th>\n",
       "      <td>17.2</td>\n",
       "      <td>45.9</td>\n",
       "      <td>69.3</td>\n",
       "      <td>9.3</td>\n",
       "    </tr>\n",
       "    <tr>\n",
       "      <th>4</th>\n",
       "      <td>151.5</td>\n",
       "      <td>41.3</td>\n",
       "      <td>58.5</td>\n",
       "      <td>18.5</td>\n",
       "    </tr>\n",
       "    <tr>\n",
       "      <th>5</th>\n",
       "      <td>180.8</td>\n",
       "      <td>10.8</td>\n",
       "      <td>58.4</td>\n",
       "      <td>12.9</td>\n",
       "    </tr>\n",
       "  </tbody>\n",
       "</table>\n",
       "</div>"
      ],
      "text/plain": [
       "      TV  Radio  Newspaper  Sales\n",
       "1  230.1   37.8       69.2   22.1\n",
       "2   44.5   39.3       45.1   10.4\n",
       "3   17.2   45.9       69.3    9.3\n",
       "4  151.5   41.3       58.5   18.5\n",
       "5  180.8   10.8       58.4   12.9"
      ]
     },
     "execution_count": 4,
     "metadata": {},
     "output_type": "execute_result"
    }
   ],
   "source": [
    "# Load the dataset\n",
    "df = pd.read_csv('data/Advertising.csv', index_col=0)\n",
    "\n",
    "# Display the first few rows of the dataframe\n",
    "df.head()"
   ]
  },
  {
   "cell_type": "markdown",
   "id": "1825b381-9fe6-476b-8708-9f9c1579db11",
   "metadata": {},
   "source": [
    "### Standardize each column of the dataset"
   ]
  },
  {
   "cell_type": "code",
   "execution_count": 6,
   "id": "13873f01-223e-44bf-a79f-6ab2326f1674",
   "metadata": {},
   "outputs": [
    {
     "data": {
      "text/html": [
       "<div>\n",
       "<style scoped>\n",
       "    .dataframe tbody tr th:only-of-type {\n",
       "        vertical-align: middle;\n",
       "    }\n",
       "\n",
       "    .dataframe tbody tr th {\n",
       "        vertical-align: top;\n",
       "    }\n",
       "\n",
       "    .dataframe thead th {\n",
       "        text-align: right;\n",
       "    }\n",
       "</style>\n",
       "<table border=\"1\" class=\"dataframe\">\n",
       "  <thead>\n",
       "    <tr style=\"text-align: right;\">\n",
       "      <th></th>\n",
       "      <th>TV</th>\n",
       "      <th>Radio</th>\n",
       "      <th>Newspaper</th>\n",
       "    </tr>\n",
       "  </thead>\n",
       "  <tbody>\n",
       "    <tr>\n",
       "      <th>0</th>\n",
       "      <td>0.969852</td>\n",
       "      <td>0.981522</td>\n",
       "      <td>1.778945</td>\n",
       "    </tr>\n",
       "    <tr>\n",
       "      <th>1</th>\n",
       "      <td>-1.197376</td>\n",
       "      <td>1.082808</td>\n",
       "      <td>0.669579</td>\n",
       "    </tr>\n",
       "    <tr>\n",
       "      <th>2</th>\n",
       "      <td>-1.516155</td>\n",
       "      <td>1.528463</td>\n",
       "      <td>1.783549</td>\n",
       "    </tr>\n",
       "    <tr>\n",
       "      <th>3</th>\n",
       "      <td>0.052050</td>\n",
       "      <td>1.217855</td>\n",
       "      <td>1.286405</td>\n",
       "    </tr>\n",
       "    <tr>\n",
       "      <th>4</th>\n",
       "      <td>0.394182</td>\n",
       "      <td>-0.841614</td>\n",
       "      <td>1.281802</td>\n",
       "    </tr>\n",
       "  </tbody>\n",
       "</table>\n",
       "</div>"
      ],
      "text/plain": [
       "         TV     Radio  Newspaper\n",
       "0  0.969852  0.981522   1.778945\n",
       "1 -1.197376  1.082808   0.669579\n",
       "2 -1.516155  1.528463   1.783549\n",
       "3  0.052050  1.217855   1.286405\n",
       "4  0.394182 -0.841614   1.281802"
      ]
     },
     "execution_count": 6,
     "metadata": {},
     "output_type": "execute_result"
    }
   ],
   "source": [
    "# Standardize the features (TV, Radio, Newspaper) using sklearn's StandardScaler\n",
    "scaler = StandardScaler()\n",
    "X = df[['TV', 'Radio', 'Newspaper']]\n",
    "y = df['Sales']\n",
    "\n",
    "# Standardize the features\n",
    "X_scaled = scaler.fit_transform(X)\n",
    "\n",
    "# Create a DataFrame for the standardized features\n",
    "X_scaled_df = pd.DataFrame(X_scaled, columns=['TV', 'Radio', 'Newspaper'])\n",
    "\n",
    "# Display the standardized data\n",
    "X_scaled_df.head()"
   ]
  },
  {
   "cell_type": "markdown",
   "id": "e83dd27c-12ce-4a3d-a43f-f5412a677df3",
   "metadata": {},
   "source": [
    "### Add column of ones"
   ]
  },
  {
   "cell_type": "code",
   "execution_count": 8,
   "id": "97c47f18-ac25-412c-9a31-8302acffa14f",
   "metadata": {},
   "outputs": [
    {
     "data": {
      "text/html": [
       "<div>\n",
       "<style scoped>\n",
       "    .dataframe tbody tr th:only-of-type {\n",
       "        vertical-align: middle;\n",
       "    }\n",
       "\n",
       "    .dataframe tbody tr th {\n",
       "        vertical-align: top;\n",
       "    }\n",
       "\n",
       "    .dataframe thead th {\n",
       "        text-align: right;\n",
       "    }\n",
       "</style>\n",
       "<table border=\"1\" class=\"dataframe\">\n",
       "  <thead>\n",
       "    <tr style=\"text-align: right;\">\n",
       "      <th></th>\n",
       "      <th>Intercept</th>\n",
       "      <th>TV</th>\n",
       "      <th>Radio</th>\n",
       "      <th>Newspaper</th>\n",
       "    </tr>\n",
       "  </thead>\n",
       "  <tbody>\n",
       "    <tr>\n",
       "      <th>0</th>\n",
       "      <td>1.0</td>\n",
       "      <td>0.969852</td>\n",
       "      <td>0.981522</td>\n",
       "      <td>1.778945</td>\n",
       "    </tr>\n",
       "    <tr>\n",
       "      <th>1</th>\n",
       "      <td>1.0</td>\n",
       "      <td>-1.197376</td>\n",
       "      <td>1.082808</td>\n",
       "      <td>0.669579</td>\n",
       "    </tr>\n",
       "    <tr>\n",
       "      <th>2</th>\n",
       "      <td>1.0</td>\n",
       "      <td>-1.516155</td>\n",
       "      <td>1.528463</td>\n",
       "      <td>1.783549</td>\n",
       "    </tr>\n",
       "    <tr>\n",
       "      <th>3</th>\n",
       "      <td>1.0</td>\n",
       "      <td>0.052050</td>\n",
       "      <td>1.217855</td>\n",
       "      <td>1.286405</td>\n",
       "    </tr>\n",
       "    <tr>\n",
       "      <th>4</th>\n",
       "      <td>1.0</td>\n",
       "      <td>0.394182</td>\n",
       "      <td>-0.841614</td>\n",
       "      <td>1.281802</td>\n",
       "    </tr>\n",
       "  </tbody>\n",
       "</table>\n",
       "</div>"
      ],
      "text/plain": [
       "   Intercept        TV     Radio  Newspaper\n",
       "0        1.0  0.969852  0.981522   1.778945\n",
       "1        1.0 -1.197376  1.082808   0.669579\n",
       "2        1.0 -1.516155  1.528463   1.783549\n",
       "3        1.0  0.052050  1.217855   1.286405\n",
       "4        1.0  0.394182 -0.841614   1.281802"
      ]
     },
     "execution_count": 8,
     "metadata": {},
     "output_type": "execute_result"
    }
   ],
   "source": [
    "# Add an intercept column (all ones)\n",
    "X_scaled = np.c_[np.ones(X_scaled.shape[0]), X_scaled]\n",
    "\n",
    "# Create a DataFrame for the standardized features with intercept\n",
    "X_scaled_df = pd.DataFrame(X_scaled, columns=['Intercept', 'TV', 'Radio', 'Newspaper'])\n",
    "\n",
    "# Display the standardized data with the intercept\n",
    "X_scaled_df.head()"
   ]
  },
  {
   "cell_type": "markdown",
   "id": "9797a336-2a11-4259-8666-571827248098",
   "metadata": {},
   "source": [
    "### Divide the dataset into training and testing"
   ]
  },
  {
   "cell_type": "code",
   "execution_count": 10,
   "id": "bbcf876e-b0a4-4e28-a097-3747eb74c7e8",
   "metadata": {},
   "outputs": [
    {
     "name": "stdout",
     "output_type": "stream",
     "text": [
      "Training set shape: (170, 4), (170,)\n",
      "Testing set shape: (30, 4), (30,)\n"
     ]
    }
   ],
   "source": [
    "# Split the dataset into training (85%) and testing (15%) sets\n",
    "X_train, X_test, y_train, y_test = train_test_split(X_scaled, y, test_size=0.15, random_state=42)\n",
    "\n",
    "# Display the shapes of the resulting datasets\n",
    "print(f\"Training set shape: {X_train.shape}, {y_train.shape}\")\n",
    "print(f\"Testing set shape: {X_test.shape}, {y_test.shape}\")"
   ]
  },
  {
   "cell_type": "markdown",
   "id": "3223143a-40fd-4cc9-907d-4f9461fe567a",
   "metadata": {},
   "source": [
    "### Initialize weights"
   ]
  },
  {
   "cell_type": "code",
   "execution_count": 12,
   "id": "9847f79c-4d2c-4ad8-b26b-11747b281a2e",
   "metadata": {},
   "outputs": [
    {
     "name": "stdout",
     "output_type": "stream",
     "text": [
      "Initial Weights: [0.37454012 0.95071431 0.73199394 0.59865848]\n"
     ]
    }
   ],
   "source": [
    "# Function to initialize weights\n",
    "def initialize_weights(n_features, seed=None):\n",
    "    if seed is not None:\n",
    "        np.random.seed(seed)  # Set the random seed for reproducibility\n",
    "    init_w = np.random.uniform(0, 1, n_features)  # Initialize weights for features + intercept\n",
    "    return init_w\n",
    "\n",
    "# Initialize weights with a random seed\n",
    "weights = initialize_weights(X_train.shape[1], seed=42)\n",
    "print(\"Initial Weights:\", weights)"
   ]
  },
  {
   "cell_type": "markdown",
   "id": "8282cafe-8861-4625-9216-9f20343e74e6",
   "metadata": {},
   "source": [
    "### Prediction function"
   ]
  },
  {
   "cell_type": "code",
   "execution_count": 14,
   "id": "880e22f4-8404-4201-958a-80fe68ee611c",
   "metadata": {},
   "outputs": [],
   "source": [
    "# Function to compute predictions based on input features X and weights\n",
    "def predict(X, weights):\n",
    "    # Compute predictions by multiplying the feature matrix with the weights\n",
    "    y_hat = np.dot(X, weights)\n",
    "    return y_hat"
   ]
  },
  {
   "cell_type": "markdown",
   "id": "30f8df1e-874e-4143-8931-54bd61d11159",
   "metadata": {},
   "source": [
    "### Cost function"
   ]
  },
  {
   "cell_type": "code",
   "execution_count": 16,
   "id": "c1375c0f-486c-4ecc-883f-2292ad23a493",
   "metadata": {},
   "outputs": [],
   "source": [
    "# Function to compute cost (Mean Squared Error)\n",
    "def compute_cost(X, y, weights):\n",
    "    # Get the number of training examples\n",
    "    m = len(y)\n",
    "    \n",
    "    # Predict the values using the current weights\n",
    "    y_hat = predict(X, weights)\n",
    "    \n",
    "    # Compute the cost using the mean squared error formula\n",
    "    cost = (1 / (2 * m)) * np.sum((y_hat - y) ** 2)\n",
    "    \n",
    "    return cost"
   ]
  },
  {
   "cell_type": "markdown",
   "id": "b15ac6fc-4977-4169-a576-29092ef6cf39",
   "metadata": {},
   "source": [
    "### Compute Gradient"
   ]
  },
  {
   "cell_type": "code",
   "execution_count": 18,
   "id": "387d4dbd-886d-481d-9445-7485895cb366",
   "metadata": {},
   "outputs": [],
   "source": [
    "# Function to compute gradient\n",
    "def compute_gradient(X, y, weights):\n",
    "    # Get the number of training examples\n",
    "    m = len(y)\n",
    "    \n",
    "    # Predict the values using the current weights\n",
    "    y_hat = predict(X, weights)\n",
    "    \n",
    "    # Compute the gradient: (1/m) * X.T * (y_hat - y)\n",
    "    gradient = (1 / m) * np.dot(X.T, (y_hat - y))\n",
    "    \n",
    "    return gradient"
   ]
  },
  {
   "cell_type": "markdown",
   "id": "fbc87e4d-d5e3-4476-87f7-a50fdfffd808",
   "metadata": {},
   "source": [
    "### Update Weights"
   ]
  },
  {
   "cell_type": "code",
   "execution_count": 20,
   "id": "8568908d-9963-43d6-91a3-e25fe3b35ddd",
   "metadata": {},
   "outputs": [],
   "source": [
    "# Function to update weights\n",
    "def update_weights(weights, gradient, learning_rate):\n",
    "    # Update the weights by subtracting the gradient scaled by the learning rate\n",
    "    updated_weights = weights - learning_rate * gradient\n",
    "    \n",
    "    return updated_weights"
   ]
  },
  {
   "cell_type": "markdown",
   "id": "06e51b29-66d4-4b83-a3cf-0cc625fa7400",
   "metadata": {},
   "source": [
    "### Grad Descent"
   ]
  },
  {
   "cell_type": "code",
   "execution_count": 22,
   "id": "2fbb4acc-bd6a-4e01-a418-b35dd44dcb72",
   "metadata": {},
   "outputs": [
    {
     "name": "stdout",
     "output_type": "stream",
     "text": [
      "Iteration 0/1000 | Cost: 101.7739\n",
      "Converged at iteration 1\n",
      "Final weights after gradient descent: [0.64767223 1.01779981 0.76750378 0.59877199]\n",
      "Final cost after gradient descent: 99.75462071164438\n"
     ]
    }
   ],
   "source": [
    "# Gradient Descent Function\n",
    "def grad_descent(X, y, weights, learning_rate, iterations, tolerance=1e-6):\n",
    "    # Initialize arrays to store the cost values and weight values at each iteration\n",
    "    cost_values = []\n",
    "    weights_values = []\n",
    "\n",
    "    for i in range(iterations):\n",
    "        # Compute the current cost and store it\n",
    "        cost = compute_cost(X, y, weights)\n",
    "        cost_values.append(cost)\n",
    "\n",
    "        # Compute the current gradient\n",
    "        gradient = compute_gradient(X, y, weights)\n",
    "        \n",
    "        # Update the weights\n",
    "        weights = update_weights(weights, gradient, learning_rate)\n",
    "        \n",
    "        # Store the updated weights\n",
    "        weights_values.append(weights.copy())\n",
    "\n",
    "        # Optionally: print the progress at certain intervals\n",
    "        if i % 100 == 0:\n",
    "            print(f\"Iteration {i}/{iterations} | Cost: {cost:.4f}\")\n",
    "        \n",
    "        # Early stopping if the change in cost is very small\n",
    "        if i > 0 and abs(cost_values[-1] - cost) < tolerance:\n",
    "            print(f\"Converged at iteration {i}\")\n",
    "            break\n",
    "\n",
    "    # Convert lists to numpy arrays for easier processing later\n",
    "    cost_values = np.array(cost_values)\n",
    "    weights_values = np.array(weights_values)\n",
    "\n",
    "    return weights_values, cost_values\n",
    "\n",
    "# Set hyperparameters\n",
    "iterations = 1000  # Number of iterations\n",
    "learning_rate = 0.01  # Learning rate\n",
    "\n",
    "# Perform gradient descent\n",
    "weights_values, cost_values = grad_descent(X_train, y_train, weights, learning_rate, iterations)\n",
    "\n",
    "# Print final weights and cost\n",
    "print(\"Final weights after gradient descent:\", weights_values[-1])\n",
    "print(\"Final cost after gradient descent:\", cost_values[-1])"
   ]
  },
  {
   "cell_type": "markdown",
   "id": "2708eda0-c021-46a1-ad8b-0724343c0d49",
   "metadata": {},
   "source": [
    "### Plotting Cost Over Iterations"
   ]
  },
  {
   "cell_type": "code",
   "execution_count": 24,
   "id": "18907cf0-361f-4086-92e6-40e0953483fa",
   "metadata": {},
   "outputs": [
    {
     "data": {
      "image/png": "[encoded data removed]",
      "text/plain": [
       "<Figure size 1000x600 with 1 Axes>"
      ]
     },
     "metadata": {},
     "output_type": "display_data"
    }
   ],
   "source": [
    "# Plotting the cost over iterations\n",
    "def plot_costs(cost_values):\n",
    "    iterations = len(cost_values)\n",
    "    \n",
    "    # Plotting the cost values\n",
    "    plt.figure(figsize=(10, 6))\n",
    "    plt.plot(range(iterations), cost_values, color='blue', linestyle='-', marker='o')\n",
    "    plt.title('Cost vs. Iterations')\n",
    "    plt.xlabel('Iterations')\n",
    "    plt.ylabel('Cost')\n",
    "    plt.grid(True)\n",
    "    plt.show()\n",
    "\n",
    "# Plot cost values\n",
    "plot_costs(cost_values)"
   ]
  },
  {
   "cell_type": "markdown",
   "id": "843c404c-ff6e-450f-964f-ce80d6c72941",
   "metadata": {},
   "source": [
    "### Predictions and Cost Evaluation"
   ]
  },
  {
   "cell_type": "code",
   "execution_count": 26,
   "id": "0d551bac-a574-483b-83e8-98f02399a611",
   "metadata": {},
   "outputs": [
    {
     "name": "stdout",
     "output_type": "stream",
     "text": [
      "Train MSE (Cost): 97.7760\n",
      "Test MSE (Cost): 93.0100\n"
     ]
    }
   ],
   "source": [
    "# Predict y for the train set and calculate the cost\n",
    "y_train_pred = predict(X_train, weights_values[-1])\n",
    "train_cost = compute_cost(X_train, y_train, weights_values[-1])\n",
    "print(f\"Train MSE (Cost): {train_cost:.4f}\")\n",
    "\n",
    "# Predict y for the test set and calculate the cost\n",
    "y_test_pred = predict(X_test, weights_values[-1])\n",
    "test_cost = compute_cost(X_test, y_test, weights_values[-1])\n",
    "print(f\"Test MSE (Cost): {test_cost:.4f}\")"
   ]
  },
  {
   "cell_type": "markdown",
   "id": "daaa7db1-dc77-4179-a9d9-6fe255549835",
   "metadata": {},
   "source": [
    "### Reverting Predictions to Original Scale"
   ]
  },
  {
   "cell_type": "code",
   "execution_count": 28,
   "id": "b1048dcd-3030-4113-8903-7a4a720cd3d2",
   "metadata": {},
   "outputs": [
    {
     "name": "stdout",
     "output_type": "stream",
     "text": [
      "Reverted Train Predictions (Original Scale): [13.7405334  10.06527221 31.91878755 23.31999852 24.08456085 22.40656236\n",
      " 14.52540319 30.97079936  9.61827761  2.71425393 10.19649463 12.01004463\n",
      " 12.53924489  7.50131577 14.38173305  2.95329959 12.17096246 15.9424792\n",
      " 10.57383104 12.0675221  20.06433284 11.80227335 22.14676077 15.87815051\n",
      "  4.68167448 11.66583017  8.60277716 34.36383288  6.69456846 11.64723013\n",
      " 19.01501663 17.90688155 14.85607749 18.04302625 17.95631012  6.33573172\n",
      " 23.55389392  5.39598232  8.58961331 11.06972578  6.93868913  3.89567478\n",
      " 17.85747457 23.17145346 26.76097711 17.70530986 16.19502154 21.17959939\n",
      " 19.71444705 26.19817854 21.04295459 14.81981796 10.97250843 19.82688929\n",
      "  6.06429572 24.00287005 19.68341084 26.71177999 11.99613911 33.21428444\n",
      "  9.85015912 30.05423113 40.30411269 19.51993685 17.97738213 17.37102646\n",
      " 15.71699515 13.41340003 20.29646277 20.25172451 20.12920002  8.34657453\n",
      " 25.69967913  8.10734195 21.50095703 13.16066473  6.74673519 20.55513374\n",
      " 13.0036028  15.71272117 11.98253389 32.03990417 36.06156307 24.37767419\n",
      " 23.78473185 16.37158167 21.45767134 12.3319208  18.75253737 23.64801499\n",
      " 20.73027523  2.20151892  1.81009441 22.44646697 17.65212244 20.09340784\n",
      " 23.41080433 32.29982483 18.8842049  26.53304763 25.62065716 26.35704758\n",
      "  9.61225968 16.3161633  16.49686073 10.2171557  26.57371767 27.18131361\n",
      " 29.85585214 26.7727978   9.2066831  18.78734937 25.32456754 10.203619\n",
      " 12.76338959  4.97649717 12.02082519 21.94330854  4.52424301 18.99293842\n",
      " 24.08753183 16.54878274 24.72450837 -1.1554889   6.73578404 19.9786832\n",
      " 20.26756263 21.01195727 33.78061611 10.95984484 34.00294006 19.75856339\n",
      " 14.61875857 37.38530392 13.17942932 23.96294869  6.62256493 15.80273627\n",
      "  5.93052352 29.5038775  23.13598039 20.52532438 17.07877156 13.62382899\n",
      " 17.60495984  4.319043   10.73805885 22.16095771 10.7344216  19.81674049\n",
      " 17.4710667  27.98825373 10.30991075  9.60167746 14.37725501 16.47580751\n",
      " 23.85918235 13.77918783 24.53040561 19.36764603 11.88072596 15.56816722\n",
      " 26.3113035  19.62444819 12.83337115  6.39518185 25.76646201 28.64149077\n",
      " 13.10306024 20.78268438]\n",
      "Reverted Test Predictions (Original Scale): [23.87728865 30.22106625 29.62631139 14.80264186 24.9693953  19.29875366\n",
      " 26.82472038  6.4826051  14.19339657 19.07095305  6.52089478  6.89675197\n",
      " 25.25461715  7.37097215 10.64280778 15.32442735 11.60388766 18.19459596\n",
      " 12.43149446 21.33798354 31.23457273 28.09405928 12.56403246 33.42396095\n",
      "  4.52224176  4.53528427 27.32586325 11.62484761  9.92193083  5.77714921]\n"
     ]
    }
   ],
   "source": [
    "# Calculate the mean and standard deviation of the target variable (Sales) from the original dataset\n",
    "sales_mean = df['Sales'].mean()\n",
    "sales_std = df['Sales'].std()\n",
    "\n",
    "# Revert the predicted values for the train set\n",
    "y_train_pred_original = y_train_pred * sales_std + sales_mean\n",
    "# Revert the predicted values for the test set\n",
    "y_test_pred_original = y_test_pred * sales_std + sales_mean\n",
    "\n",
    "print(f\"Reverted Train Predictions (Original Scale): {y_train_pred_original}\")\n",
    "print(f\"Reverted Test Predictions (Original Scale): {y_test_pred_original}\")"
   ]
  },
  {
   "cell_type": "code",
   "execution_count": null,
   "id": "70538dd5-5a11-4e7a-a7f6-7543b6f14484",
   "metadata": {},
   "outputs": [],
   "source": []
  }
 ],
 "metadata": {
  "kernelspec": {
   "display_name": "Python 3 (ipykernel)",
   "language": "python",
   "name": "python3"
  },
  "language_info": {
   "codemirror_mode": {
    "name": "ipython",
    "version": 3
   },
   "file_extension": ".py",
   "mimetype": "text/x-python",
   "name": "python",
   "nbconvert_exporter": "python",
   "pygments_lexer": "ipython3",
   "version": "3.12.4"
  }
 },
 "nbformat": 4,
 "nbformat_minor": 5
}
